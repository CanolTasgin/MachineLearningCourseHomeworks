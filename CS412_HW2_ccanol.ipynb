{
  "nbformat": 4,
  "nbformat_minor": 0,
  "metadata": {
    "colab": {
      "name": "CS412_HW2_ccanol.ipynb",
      "provenance": [],
      "collapsed_sections": []
    },
    "kernelspec": {
      "name": "python3",
      "display_name": "Python 3"
    }
  },
  "cells": [
    {
      "cell_type": "markdown",
      "metadata": {
        "id": "dl7Y0YJkZUgD"
      },
      "source": [
        "#CS412 Homework 2\n",
        "Celal Canol Taşgın - 20761\n",
        "ccanol@sabanciuniv.edu"
      ]
    },
    {
      "cell_type": "code",
      "metadata": {
        "id": "cT_49mtGGQgx"
      },
      "source": [
        "import pandas as pd\n",
        "import numpy as np"
      ],
      "execution_count": null,
      "outputs": []
    },
    {
      "cell_type": "markdown",
      "metadata": {
        "id": "kC8f8wzvUayX"
      },
      "source": [
        "Read data with pandas and put column names"
      ]
    },
    {
      "cell_type": "code",
      "metadata": {
        "id": "EXNOBKJ3IDjT"
      },
      "source": [
        "from sklearn import datasets\n",
        "url=\"https://archive.ics.uci.edu/ml/machine-learning-databases/iris/iris.data\"\n",
        "mydata = pd.read_csv(url,names=['SepalLength', 'SepalWidth', 'PetalLength', 'PetalWidth', 'FlowerType']) "
      ],
      "execution_count": null,
      "outputs": []
    },
    {
      "cell_type": "code",
      "metadata": {
        "id": "pT8V13jgIUA6"
      },
      "source": [
        "df = pd.DataFrame(mydata)"
      ],
      "execution_count": null,
      "outputs": []
    },
    {
      "cell_type": "markdown",
      "metadata": {
        "id": "OWFk6DpnUo0v"
      },
      "source": [
        "Seperated data as data & label"
      ]
    },
    {
      "cell_type": "code",
      "metadata": {
        "id": "C7u-6CPHRs0H",
        "colab": {
          "base_uri": "https://localhost:8080/",
          "height": 419
        },
        "outputId": "19c30920-fee3-467c-fe19-a55d09591890"
      },
      "source": [
        "data = df[['SepalLength',\t'SepalWidth',\t'PetalLength',\t'PetalWidth']]\n",
        "labels = df['FlowerType']\n",
        "data"
      ],
      "execution_count": null,
      "outputs": [
        {
          "output_type": "execute_result",
          "data": {
            "text/html": [
              "<div>\n",
              "<style scoped>\n",
              "    .dataframe tbody tr th:only-of-type {\n",
              "        vertical-align: middle;\n",
              "    }\n",
              "\n",
              "    .dataframe tbody tr th {\n",
              "        vertical-align: top;\n",
              "    }\n",
              "\n",
              "    .dataframe thead th {\n",
              "        text-align: right;\n",
              "    }\n",
              "</style>\n",
              "<table border=\"1\" class=\"dataframe\">\n",
              "  <thead>\n",
              "    <tr style=\"text-align: right;\">\n",
              "      <th></th>\n",
              "      <th>SepalLength</th>\n",
              "      <th>SepalWidth</th>\n",
              "      <th>PetalLength</th>\n",
              "      <th>PetalWidth</th>\n",
              "    </tr>\n",
              "  </thead>\n",
              "  <tbody>\n",
              "    <tr>\n",
              "      <th>0</th>\n",
              "      <td>5.1</td>\n",
              "      <td>3.5</td>\n",
              "      <td>1.4</td>\n",
              "      <td>0.2</td>\n",
              "    </tr>\n",
              "    <tr>\n",
              "      <th>1</th>\n",
              "      <td>4.9</td>\n",
              "      <td>3.0</td>\n",
              "      <td>1.4</td>\n",
              "      <td>0.2</td>\n",
              "    </tr>\n",
              "    <tr>\n",
              "      <th>2</th>\n",
              "      <td>4.7</td>\n",
              "      <td>3.2</td>\n",
              "      <td>1.3</td>\n",
              "      <td>0.2</td>\n",
              "    </tr>\n",
              "    <tr>\n",
              "      <th>3</th>\n",
              "      <td>4.6</td>\n",
              "      <td>3.1</td>\n",
              "      <td>1.5</td>\n",
              "      <td>0.2</td>\n",
              "    </tr>\n",
              "    <tr>\n",
              "      <th>4</th>\n",
              "      <td>5.0</td>\n",
              "      <td>3.6</td>\n",
              "      <td>1.4</td>\n",
              "      <td>0.2</td>\n",
              "    </tr>\n",
              "    <tr>\n",
              "      <th>...</th>\n",
              "      <td>...</td>\n",
              "      <td>...</td>\n",
              "      <td>...</td>\n",
              "      <td>...</td>\n",
              "    </tr>\n",
              "    <tr>\n",
              "      <th>145</th>\n",
              "      <td>6.7</td>\n",
              "      <td>3.0</td>\n",
              "      <td>5.2</td>\n",
              "      <td>2.3</td>\n",
              "    </tr>\n",
              "    <tr>\n",
              "      <th>146</th>\n",
              "      <td>6.3</td>\n",
              "      <td>2.5</td>\n",
              "      <td>5.0</td>\n",
              "      <td>1.9</td>\n",
              "    </tr>\n",
              "    <tr>\n",
              "      <th>147</th>\n",
              "      <td>6.5</td>\n",
              "      <td>3.0</td>\n",
              "      <td>5.2</td>\n",
              "      <td>2.0</td>\n",
              "    </tr>\n",
              "    <tr>\n",
              "      <th>148</th>\n",
              "      <td>6.2</td>\n",
              "      <td>3.4</td>\n",
              "      <td>5.4</td>\n",
              "      <td>2.3</td>\n",
              "    </tr>\n",
              "    <tr>\n",
              "      <th>149</th>\n",
              "      <td>5.9</td>\n",
              "      <td>3.0</td>\n",
              "      <td>5.1</td>\n",
              "      <td>1.8</td>\n",
              "    </tr>\n",
              "  </tbody>\n",
              "</table>\n",
              "<p>150 rows × 4 columns</p>\n",
              "</div>"
            ],
            "text/plain": [
              "     SepalLength  SepalWidth  PetalLength  PetalWidth\n",
              "0            5.1         3.5          1.4         0.2\n",
              "1            4.9         3.0          1.4         0.2\n",
              "2            4.7         3.2          1.3         0.2\n",
              "3            4.6         3.1          1.5         0.2\n",
              "4            5.0         3.6          1.4         0.2\n",
              "..           ...         ...          ...         ...\n",
              "145          6.7         3.0          5.2         2.3\n",
              "146          6.3         2.5          5.0         1.9\n",
              "147          6.5         3.0          5.2         2.0\n",
              "148          6.2         3.4          5.4         2.3\n",
              "149          5.9         3.0          5.1         1.8\n",
              "\n",
              "[150 rows x 4 columns]"
            ]
          },
          "metadata": {
            "tags": []
          },
          "execution_count": 6
        }
      ]
    },
    {
      "cell_type": "markdown",
      "metadata": {
        "id": "Pt52XAw_UzMe"
      },
      "source": [
        "Split Data as 75% training, 25% testing\n",
        "\n",
        "\n"
      ]
    },
    {
      "cell_type": "code",
      "metadata": {
        "id": "yGnczEiBLKzD"
      },
      "source": [
        "from sklearn.model_selection import train_test_split\n",
        "\n",
        "# Split 75% training, 25% test\n",
        "X_train, X_test, y_train, y_test = train_test_split(data, labels, test_size=0.25) # X_train -> 75%, X_test -> 25%"
      ],
      "execution_count": null,
      "outputs": []
    },
    {
      "cell_type": "markdown",
      "metadata": {
        "id": "GTbql5fiVNBy"
      },
      "source": [
        "#Used Knn algorithm 1 to 10 for finding the best k"
      ]
    },
    {
      "cell_type": "code",
      "metadata": {
        "id": "6IfUxtxyaupA",
        "colab": {
          "base_uri": "https://localhost:8080/",
          "height": 187
        },
        "outputId": "feccad30-d2d7-4b77-cdc3-e45bb9d39a57"
      },
      "source": [
        "from sklearn.neighbors import KNeighborsClassifier\n",
        "from sklearn.metrics import accuracy_score, f1_score, classification_report\n",
        "\n",
        "kVals = range(1, 11)\n",
        "accuracies = []\n",
        "for k in kVals: \n",
        "  # Train the k-Nearest Neighbor classifier with the current value of k\n",
        "  model = KNeighborsClassifier(n_neighbors=k)\n",
        "  model.fit(X_train, y_train)\n",
        "\n",
        "  # Evaluate the model on test set \n",
        "  test_predictions = model.predict(X_test)\n",
        "  acc = accuracy_score(y_test, test_predictions)\n",
        "  f1 = f1_score(y_test, test_predictions, average=\"weighted\")\n",
        "\n",
        "  print(\"For k = {:d}, test accuracy = {:.2f}, f1 score = {:.2f}\".format(k, acc, f1))\n",
        "    \n",
        "  # Update the accuracies list\n",
        "  accuracies.append(acc)"
      ],
      "execution_count": null,
      "outputs": [
        {
          "output_type": "stream",
          "text": [
            "For k = 1, test accuracy = 0.97, f1 score = 0.97\n",
            "For k = 2, test accuracy = 0.97, f1 score = 0.97\n",
            "For k = 3, test accuracy = 0.97, f1 score = 0.97\n",
            "For k = 4, test accuracy = 0.95, f1 score = 0.95\n",
            "For k = 5, test accuracy = 0.97, f1 score = 0.97\n",
            "For k = 6, test accuracy = 0.97, f1 score = 0.97\n",
            "For k = 7, test accuracy = 0.97, f1 score = 0.97\n",
            "For k = 8, test accuracy = 1.00, f1 score = 1.00\n",
            "For k = 9, test accuracy = 0.97, f1 score = 0.97\n",
            "For k = 10, test accuracy = 0.97, f1 score = 0.97\n"
          ],
          "name": "stdout"
        }
      ]
    },
    {
      "cell_type": "markdown",
      "metadata": {
        "id": "cuqfTy_CVra4"
      },
      "source": [
        "F1 Score samples when i ran the code 3 times:"
      ]
    },
    {
      "cell_type": "markdown",
      "metadata": {
        "id": "s_etCk3MxizX"
      },
      "source": [
        "|                             | F1 SCORES                   |                             |\n",
        "|-----------------------------|-----------------------------|-----------------------------|\n",
        "| First Run:                  | Second Run:                 | Third Run:                  |\n",
        "| For k = 1, f1 score = 1.00  | For k = 1, f1 score = 0.92  | For k = 1, f1 score = 0.97  |\n",
        "| For k = 2, f1 score = 1.00  | For k = 2, f1 score = 0.95  | For k = 2, f1 score = 0.92  |\n",
        "| For k = 3, f1 score = 0.95  | For k = 3, f1 score = 0.92  | For k = 3, f1 score = 0.97  |\n",
        "| For k = 4, f1 score = 0.97  | For k = 4, f1 score = 0.89  | For k = 4, f1 score = 0.97  |\n",
        "| For k = 5, f1 score = 0.95  | For k = 5, f1 score = 0.95  | For k = 5, f1 score = 0.97  |\n",
        "| For k = 6, f1 score = 0.97  | For k = 6, f1 score = 0.95  | For k = 6, f1 score = 0.97  |\n",
        "| For k = 7, f1 score = 0.95  | For k = 7, f1 score = 0.95  | For k = 7, f1 score = 0.97  |\n",
        "| For k = 8, f1 score = 0.97  | For k = 8, f1 score = 0.92  | For k = 8, f1 score = 0.95  |\n",
        "| For k = 9, f1 score = 0.97  | For k = 9, f1 score = 0.92  | For k = 9, f1 score = 0.97  |\n",
        "| For k = 10, f1 score = 1.00 | For k = 10, f1 score = 0.92 | For k = 10, f1 score = 0.97 |"
      ]
    },
    {
      "cell_type": "markdown",
      "metadata": {
        "id": "MYvPgqe9YAgg"
      },
      "source": [
        "Found best k according to f1 score & accuracy"
      ]
    },
    {
      "cell_type": "code",
      "metadata": {
        "id": "lzLfgASSjNVV",
        "colab": {
          "base_uri": "https://localhost:8080/",
          "height": 51
        },
        "outputId": "2c36168c-9984-4079-e197-020f84cc8a74"
      },
      "source": [
        "i = np.argmax(accuracies)\n",
        "print(\"best k = {:d} with {:.2f}% test accuracy\".format(kVals[i], accuracies[i] * 100))\n",
        "\n",
        "bestK = kVals[i]\n",
        "\n",
        "model = KNeighborsClassifier(n_neighbors=kVals[i])\n",
        "model.fit(X_train, y_train)\n",
        "\n",
        "y_preds = model.predict(X_test)\n",
        "\n",
        "print(\"Test accuracy = {:.2f}%\".format(accuracy_score(y_test, y_preds) * 100))"
      ],
      "execution_count": null,
      "outputs": [
        {
          "output_type": "stream",
          "text": [
            "best k = 8 with 100.00% test accuracy\n",
            "Test accuracy = 100.00%\n"
          ],
          "name": "stdout"
        }
      ]
    },
    {
      "cell_type": "markdown",
      "metadata": {
        "id": "wck8bHSFz4Qd"
      },
      "source": [
        "Since classes in this dataset are distributed unevenly, we can use F1 score for comparison because its weighted average of precision and recall.</br>\n",
        "We have different results almost each time we run program because we are using different parts of same dataset each time. So distances between data points are different. If we use exactly the same data points, results wouldn't change. (We can use random_state parameter for this purpose)"
      ]
    },
    {
      "cell_type": "markdown",
      "metadata": {
        "id": "p3PO8C4OYhlY"
      },
      "source": [
        "Also created confusion matrix and checked the results.</br>\n",
        "Results are changing in the confusion matrix because as i mentioned above, we are using different portions of the dataset and its accuracy is changing too.</br> So we may see different number of flowers for each type and some errors on the confusion matrix when we run program again."
      ]
    },
    {
      "cell_type": "code",
      "metadata": {
        "id": "7yG2lMUKjg9C",
        "colab": {
          "base_uri": "https://localhost:8080/",
          "height": 68
        },
        "outputId": "26f98578-87ab-437b-ae17-78c3c4bb5935"
      },
      "source": [
        "from sklearn.metrics import confusion_matrix\n",
        "\n",
        "print(confusion_matrix(y_test, y_preds))"
      ],
      "execution_count": null,
      "outputs": [
        {
          "output_type": "stream",
          "text": [
            "[[12  0  0]\n",
            " [ 0 14  0]\n",
            " [ 0  0 12]]\n"
          ],
          "name": "stdout"
        }
      ]
    },
    {
      "cell_type": "markdown",
      "metadata": {
        "id": "hncHJe4xWZ_e"
      },
      "source": [
        "I observed that confusion matrix changed each time i ran the code according to data samples and accuracy."
      ]
    },
    {
      "cell_type": "code",
      "metadata": {
        "id": "CXnVyGWVjktZ",
        "colab": {
          "base_uri": "https://localhost:8080/",
          "height": 283
        },
        "outputId": "b0582b3b-a949-4113-98d2-c9c581749b8f"
      },
      "source": [
        "from sklearn.metrics import plot_confusion_matrix\n",
        "import matplotlib.pyplot as plt\n",
        "\n",
        "plot_confusion_matrix(model, X_test, y_test, cmap = plt.cm.Blues)\n",
        "plt.show()"
      ],
      "execution_count": null,
      "outputs": [
        {
          "output_type": "display_data",
          "data": {
            "image/png": "[encoded data removed]",
            "text/plain": [
              "<Figure size 432x288 with 2 Axes>"
            ]
          },
          "metadata": {
            "tags": [],
            "needs_background": "light"
          }
        }
      ]
    },
    {
      "cell_type": "code",
      "metadata": {
        "id": "9DdHA6zKjfUy",
        "colab": {
          "base_uri": "https://localhost:8080/",
          "height": 187
        },
        "outputId": "0756f4ae-51c0-4f12-f622-99def27f1b4c"
      },
      "source": [
        "print(classification_report(y_test, y_preds))"
      ],
      "execution_count": null,
      "outputs": [
        {
          "output_type": "stream",
          "text": [
            "                 precision    recall  f1-score   support\n",
            "\n",
            "    Iris-setosa       1.00      1.00      1.00        12\n",
            "Iris-versicolor       1.00      1.00      1.00        14\n",
            " Iris-virginica       1.00      1.00      1.00        12\n",
            "\n",
            "       accuracy                           1.00        38\n",
            "      macro avg       1.00      1.00      1.00        38\n",
            "   weighted avg       1.00      1.00      1.00        38\n",
            "\n"
          ],
          "name": "stdout"
        }
      ]
    },
    {
      "cell_type": "markdown",
      "metadata": {
        "id": "dx7Kjg9-Ys0k"
      },
      "source": [
        "# Used Best k only. (which is 8)"
      ]
    },
    {
      "cell_type": "code",
      "metadata": {
        "id": "2HwkD5ELum96",
        "colab": {
          "base_uri": "https://localhost:8080/",
          "height": 34
        },
        "outputId": "9585114d-5201-4725-8127-2e1b9c5fef31"
      },
      "source": [
        "from sklearn.neighbors import KNeighborsClassifier\n",
        "\n",
        "# Train the k-Nearest Neighbor classifier with the current value of k\n",
        "model = KNeighborsClassifier(n_neighbors=bestK,weights='distance')\n",
        "model.fit(X_train, y_train)\n",
        "\n",
        "# Evaluate the model on validation set \n",
        "val_predictions = model.predict(X_train)\n",
        "acc = accuracy_score(y_train, val_predictions)\n",
        "f1 = f1_score(y_train, val_predictions, average=\"weighted\")\n",
        "\n",
        "print(\"For k = {:d}, test accuracy = {:.2f}, f1 score = {:.2f}\".format(bestK,acc, f1))\n",
        "#,weights='uniform'\n"
      ],
      "execution_count": null,
      "outputs": [
        {
          "output_type": "stream",
          "text": [
            "For k = 8, test accuracy = 1.00, f1 score = 1.00\n"
          ],
          "name": "stdout"
        }
      ]
    },
    {
      "cell_type": "markdown",
      "metadata": {
        "id": "93htKR0iY2go"
      },
      "source": [
        "# Split data as 50% training & 50% testing\n",
        "\n",
        "---\n",
        "\n"
      ]
    },
    {
      "cell_type": "code",
      "metadata": {
        "id": "Vc1_QLcrxKYE"
      },
      "source": [
        "X_trainv2, X_testv2, y_trainv2, y_testv2 = train_test_split(data, labels, test_size=0.5) # X_trainv2 -> 50%, X_testv2 -> 50%"
      ],
      "execution_count": null,
      "outputs": []
    },
    {
      "cell_type": "markdown",
      "metadata": {
        "id": "9ATj31MiZB6V"
      },
      "source": [
        "Tried k value found from previous split with new test data.</br>\n",
        "</br>\n",
        "When i compare my observations between 50-50 split and 75-25 split, i see that accuracy and f1 score is lower when i split the data 50 training and 50 testing. When i used 75 training, accuracy is higher.</br></br>\n",
        "The reason is that when we train less data samples, our capability to predict unknown samples will be lower. Since we train 75% of the data earlier, accuracy and f1 scores were higher due to training more data.\n",
        "\n",
        "\n"
      ]
    },
    {
      "cell_type": "code",
      "metadata": {
        "id": "v8-lq5MuxXqL",
        "colab": {
          "base_uri": "https://localhost:8080/",
          "height": 34
        },
        "outputId": "12d1f08f-ea6f-4a4d-bd8a-bcf042bb07bf"
      },
      "source": [
        "from sklearn.neighbors import KNeighborsClassifier\n",
        "\n",
        "# Train the k-Nearest Neighbor classifier with the current value of k\n",
        "model = KNeighborsClassifier(n_neighbors=bestK)\n",
        "model.fit(X_trainv2, y_trainv2)\n",
        "\n",
        "# Evaluate the model on validation set \n",
        "val_predictionsv2 = model.predict(X_trainv2)\n",
        "acc = accuracy_score(y_trainv2, val_predictionsv2)\n",
        "f1 = f1_score(y_trainv2, val_predictionsv2, average=\"weighted\")\n",
        "\n",
        "print(\"For k = {:d}, test accuracy = {:.2f}, f1 score = {:.2f}\".format(bestK,acc, f1))"
      ],
      "execution_count": null,
      "outputs": [
        {
          "output_type": "stream",
          "text": [
            "For k = 8, test accuracy = 0.97, f1 score = 0.97\n"
          ],
          "name": "stdout"
        }
      ]
    }
  ]
}