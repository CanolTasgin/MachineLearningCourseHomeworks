{
  "nbformat": 4,
  "nbformat_minor": 0,
  "metadata": {
    "colab": {
      "name": "CS412_HW1_ccanol.ipynb",
      "provenance": [],
      "collapsed_sections": []
    },
    "kernelspec": {
      "name": "python3",
      "display_name": "Python 3"
    }
  },
  "cells": [
    {
      "cell_type": "code",
      "metadata": {
        "id": "0Kf8Sn636ngE"
      },
      "source": [
        "import pandas as pd"
      ],
      "execution_count": null,
      "outputs": []
    },
    {
      "cell_type": "code",
      "metadata": {
        "id": "ti1vq5XT6w03"
      },
      "source": [
        "mydata = pd.read_table(\"https://archive.ics.uci.edu/ml/machine-learning-databases/iris/iris.data\", sep=\",\")\n",
        "mydata.columns = ['SepalLength', 'SepalWidth', 'PetalLength', 'PetalWidth', 'Output']"
      ],
      "execution_count": null,
      "outputs": []
    },
    {
      "cell_type": "code",
      "metadata": {
        "id": "Hsq647Ql6yLQ",
        "colab": {
          "base_uri": "https://localhost:8080/"
        },
        "outputId": "cf70a779-2522-4497-a6e0-7088ae9c168c"
      },
      "source": [
        "print(mydata)"
      ],
      "execution_count": null,
      "outputs": [
        {
          "output_type": "stream",
          "text": [
            "     SepalLength  SepalWidth  PetalLength  PetalWidth          Output\n",
            "0            4.9         3.0          1.4         0.2     Iris-setosa\n",
            "1            4.7         3.2          1.3         0.2     Iris-setosa\n",
            "2            4.6         3.1          1.5         0.2     Iris-setosa\n",
            "3            5.0         3.6          1.4         0.2     Iris-setosa\n",
            "4            5.4         3.9          1.7         0.4     Iris-setosa\n",
            "..           ...         ...          ...         ...             ...\n",
            "144          6.7         3.0          5.2         2.3  Iris-virginica\n",
            "145          6.3         2.5          5.0         1.9  Iris-virginica\n",
            "146          6.5         3.0          5.2         2.0  Iris-virginica\n",
            "147          6.2         3.4          5.4         2.3  Iris-virginica\n",
            "148          5.9         3.0          5.1         1.8  Iris-virginica\n",
            "\n",
            "[149 rows x 5 columns]\n"
          ],
          "name": "stdout"
        }
      ]
    },
    {
      "cell_type": "code",
      "metadata": {
        "id": "aqq94Sac6zlJ",
        "colab": {
          "base_uri": "https://localhost:8080/"
        },
        "outputId": "8010d937-5e3f-446d-cf3d-46991230a657"
      },
      "source": [
        "print(mydata.shape)"
      ],
      "execution_count": null,
      "outputs": [
        {
          "output_type": "stream",
          "text": [
            "(149, 5)\n"
          ],
          "name": "stdout"
        }
      ]
    },
    {
      "cell_type": "code",
      "metadata": {
        "id": "zz7G-D2j6088",
        "colab": {
          "base_uri": "https://localhost:8080/"
        },
        "outputId": "ae8f24dc-0a69-4b5a-ea8f-ae25f2bf317b"
      },
      "source": [
        "print(mydata.columns)"
      ],
      "execution_count": null,
      "outputs": [
        {
          "output_type": "stream",
          "text": [
            "Index(['SepalLength', 'SepalWidth', 'PetalLength', 'PetalWidth', 'Output'], dtype='object')\n"
          ],
          "name": "stdout"
        }
      ]
    },
    {
      "cell_type": "code",
      "metadata": {
        "id": "5CMhjC0W62MY",
        "colab": {
          "base_uri": "https://localhost:8080/"
        },
        "outputId": "b78d139b-6a9c-4228-8957-04c2dc7ef0da"
      },
      "source": [
        "print(mydata.head(10))"
      ],
      "execution_count": null,
      "outputs": [
        {
          "output_type": "stream",
          "text": [
            "   SepalLength  SepalWidth  PetalLength  PetalWidth       Output\n",
            "0          4.9         3.0          1.4         0.2  Iris-setosa\n",
            "1          4.7         3.2          1.3         0.2  Iris-setosa\n",
            "2          4.6         3.1          1.5         0.2  Iris-setosa\n",
            "3          5.0         3.6          1.4         0.2  Iris-setosa\n",
            "4          5.4         3.9          1.7         0.4  Iris-setosa\n",
            "5          4.6         3.4          1.4         0.3  Iris-setosa\n",
            "6          5.0         3.4          1.5         0.2  Iris-setosa\n",
            "7          4.4         2.9          1.4         0.2  Iris-setosa\n",
            "8          4.9         3.1          1.5         0.1  Iris-setosa\n",
            "9          5.4         3.7          1.5         0.2  Iris-setosa\n"
          ],
          "name": "stdout"
        }
      ]
    },
    {
      "cell_type": "code",
      "metadata": {
        "id": "8kAsmDbc63c6",
        "colab": {
          "base_uri": "https://localhost:8080/"
        },
        "outputId": "8a748002-de71-4a9e-d3d3-d9616730db04"
      },
      "source": [
        "print(mydata.sample(n=10))"
      ],
      "execution_count": null,
      "outputs": [
        {
          "output_type": "stream",
          "text": [
            "     SepalLength  SepalWidth  PetalLength  PetalWidth           Output\n",
            "85           6.7         3.1          4.7         1.5  Iris-versicolor\n",
            "0            4.9         3.0          1.4         0.2      Iris-setosa\n",
            "61           6.0         2.2          4.0         1.0  Iris-versicolor\n",
            "140          6.9         3.1          5.1         2.3   Iris-virginica\n",
            "114          6.4         3.2          5.3         2.3   Iris-virginica\n",
            "22           5.1         3.3          1.7         0.5      Iris-setosa\n",
            "15           5.4         3.9          1.3         0.4      Iris-setosa\n",
            "147          6.2         3.4          5.4         2.3   Iris-virginica\n",
            "59           5.0         2.0          3.5         1.0  Iris-versicolor\n",
            "56           4.9         2.4          3.3         1.0  Iris-versicolor\n"
          ],
          "name": "stdout"
        }
      ]
    },
    {
      "cell_type": "code",
      "metadata": {
        "id": "lZalslhh6468",
        "colab": {
          "base_uri": "https://localhost:8080/"
        },
        "outputId": "d85b5101-d947-4ab6-c464-b7e33d2631d8"
      },
      "source": [
        "print(mydata.tail(10))"
      ],
      "execution_count": null,
      "outputs": [
        {
          "output_type": "stream",
          "text": [
            "     SepalLength  SepalWidth  PetalLength  PetalWidth          Output\n",
            "139          6.7         3.1          5.6         2.4  Iris-virginica\n",
            "140          6.9         3.1          5.1         2.3  Iris-virginica\n",
            "141          5.8         2.7          5.1         1.9  Iris-virginica\n",
            "142          6.8         3.2          5.9         2.3  Iris-virginica\n",
            "143          6.7         3.3          5.7         2.5  Iris-virginica\n",
            "144          6.7         3.0          5.2         2.3  Iris-virginica\n",
            "145          6.3         2.5          5.0         1.9  Iris-virginica\n",
            "146          6.5         3.0          5.2         2.0  Iris-virginica\n",
            "147          6.2         3.4          5.4         2.3  Iris-virginica\n",
            "148          5.9         3.0          5.1         1.8  Iris-virginica\n"
          ],
          "name": "stdout"
        }
      ]
    },
    {
      "cell_type": "code",
      "metadata": {
        "id": "or8B95q866M6",
        "colab": {
          "base_uri": "https://localhost:8080/"
        },
        "outputId": "4fb10a00-86e1-48ac-cfe2-189662f75352"
      },
      "source": [
        "print(mydata.iloc[99])"
      ],
      "execution_count": null,
      "outputs": [
        {
          "output_type": "stream",
          "text": [
            "SepalLength               6.3\n",
            "SepalWidth                3.3\n",
            "PetalLength                 6\n",
            "PetalWidth                2.5\n",
            "Output         Iris-virginica\n",
            "Name: 99, dtype: object\n"
          ],
          "name": "stdout"
        }
      ]
    }
  ]
}