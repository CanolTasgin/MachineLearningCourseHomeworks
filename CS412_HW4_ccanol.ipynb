{
  "nbformat": 4,
  "nbformat_minor": 0,
  "metadata": {
    "colab": {
      "name": "CS412_HW4_ccanol.ipynb",
      "provenance": [],
      "collapsed_sections": [
        "6bDwzJOmAIm-",
        "_7EhSfwULXbo",
        "45CQzr-XLm5q",
        "QrUC_Et2Lo7O",
        "ZVcAL6G8LrqF",
        "P6JYjNCcLynD",
        "WEuGw90XL85S"
      ]
    },
    "kernelspec": {
      "name": "python3",
      "display_name": "Python 3"
    }
  },
  "cells": [
    {
      "cell_type": "markdown",
      "metadata": {
        "id": "yZx-Lt4__4he"
      },
      "source": [
        "# CS412 Homework 4\n",
        "Celal Canol Taşgın / 20761 / ccanol@sabanciuniv.edu"
      ]
    },
    {
      "cell_type": "markdown",
      "metadata": {
        "id": "6bDwzJOmAIm-"
      },
      "source": [
        "# kMeans Algorithm "
      ]
    },
    {
      "cell_type": "code",
      "metadata": {
        "id": "8o6HiAEdMWWG"
      },
      "source": [
        "import numpy as np\n",
        "import pandas as pd\n",
        "import matplotlib.pyplot as plt\n",
        "from sklearn.cluster import KMeans"
      ],
      "execution_count": null,
      "outputs": []
    },
    {
      "cell_type": "markdown",
      "metadata": {
        "id": "imQiHFdcAPFY"
      },
      "source": [
        "Read iris data set with pandas:"
      ]
    },
    {
      "cell_type": "code",
      "metadata": {
        "id": "i9GofUrPMdgO",
        "colab": {
          "base_uri": "https://localhost:8080/",
          "height": 255
        },
        "outputId": "faa2d355-1dfe-489c-e856-59d1b15c0fe7"
      },
      "source": [
        "url=\"https://archive.ics.uci.edu/ml/machine-learning-databases/iris/iris.data\"\n",
        "df = pd.read_csv(url, header = None, names =['Sepal length (cm)', \n",
        "                                             'Sepal width (cm)', \n",
        "                                             'Petal length (cm)',  \n",
        "                                             'Petal width (cm)', \n",
        "                                             'Class'])\n",
        "df.head(10)\n",
        "df.info"
      ],
      "execution_count": null,
      "outputs": [
        {
          "output_type": "execute_result",
          "data": {
            "text/plain": [
              "<bound method DataFrame.info of      Sepal length (cm)  Sepal width (cm)  ...  Petal width (cm)           Class\n",
              "0                  5.1               3.5  ...               0.2     Iris-setosa\n",
              "1                  4.9               3.0  ...               0.2     Iris-setosa\n",
              "2                  4.7               3.2  ...               0.2     Iris-setosa\n",
              "3                  4.6               3.1  ...               0.2     Iris-setosa\n",
              "4                  5.0               3.6  ...               0.2     Iris-setosa\n",
              "..                 ...               ...  ...               ...             ...\n",
              "145                6.7               3.0  ...               2.3  Iris-virginica\n",
              "146                6.3               2.5  ...               1.9  Iris-virginica\n",
              "147                6.5               3.0  ...               2.0  Iris-virginica\n",
              "148                6.2               3.4  ...               2.3  Iris-virginica\n",
              "149                5.9               3.0  ...               1.8  Iris-virginica\n",
              "\n",
              "[150 rows x 5 columns]>"
            ]
          },
          "metadata": {
            "tags": []
          },
          "execution_count": 2
        }
      ]
    },
    {
      "cell_type": "markdown",
      "metadata": {
        "id": "2JmKt2WLAU4I"
      },
      "source": [
        "Divided dataset and then "
      ]
    },
    {
      "cell_type": "code",
      "metadata": {
        "id": "vWLj5lJYWmuJ"
      },
      "source": [
        "x = df.iloc[:, [0,1,2,3]].values"
      ],
      "execution_count": null,
      "outputs": []
    },
    {
      "cell_type": "markdown",
      "metadata": {
        "id": "BOPCyamPLBWn"
      },
      "source": [
        "Tried KMeans algorithm with clusters 1 to 10. Then used elbow method to see the best k for number of clusters. It seems like when k = 3, its best for this dataset."
      ]
    },
    {
      "cell_type": "code",
      "metadata": {
        "id": "MyJZZL6mXIet",
        "colab": {
          "base_uri": "https://localhost:8080/",
          "height": 295
        },
        "outputId": "f9d389d5-0c4c-43ae-9116-7e4b8a48309b"
      },
      "source": [
        "Error =[]\n",
        "for i in range(1, 11):\n",
        "    kmeans = KMeans(n_clusters = i).fit(x)\n",
        "    kmeans.fit(x)\n",
        "    Error.append(kmeans.inertia_)\n",
        "import matplotlib.pyplot as plt\n",
        "plt.plot(range(1, 11), Error)\n",
        "plt.title('Elbow method')\n",
        "plt.xlabel('No of clusters')\n",
        "plt.ylabel('Error')\n",
        "plt.show()"
      ],
      "execution_count": null,
      "outputs": [
        {
          "output_type": "display_data",
          "data": {
            "image/png": "[encoded data removed]",
            "text/plain": [
              "<Figure size 432x288 with 1 Axes>"
            ]
          },
          "metadata": {
            "tags": [],
            "needs_background": "light"
          }
        }
      ]
    },
    {
      "cell_type": "markdown",
      "metadata": {
        "id": "_7EhSfwULXbo"
      },
      "source": [
        "# Tried n_clusters = 1 and n_init = 10"
      ]
    },
    {
      "cell_type": "code",
      "metadata": {
        "id": "lNmVkrzAYFOj",
        "colab": {
          "base_uri": "https://localhost:8080/",
          "height": 285
        },
        "outputId": "463a3cd1-a341-491f-c814-36dd523cd86f"
      },
      "source": [
        "kmeans = KMeans(n_clusters=1,  n_init=10, random_state=0).fit(x)\n",
        "y_kmeans = kmeans.fit_predict(x)\n",
        "plt.scatter(x[y_kmeans == 0, 0], x[y_kmeans == 0, 1], s = 100, c = 'red', label = 'Iris-setosa')\n",
        "plt.scatter(x[y_kmeans == 1, 0], x[y_kmeans == 1, 1], s = 100, c = 'blue', label = 'Iris-versicolour')\n",
        "plt.scatter(x[y_kmeans == 2, 0], x[y_kmeans == 2, 1], s = 100, c = 'green', label = 'Iris-virginica')\n",
        "\n",
        "#Plotting the centroids of the clusters\n",
        "plt.scatter(kmeans.cluster_centers_[:, 0], kmeans.cluster_centers_[:,1], s = 100, c = 'black', label = 'Centroids')\n",
        "\n",
        "plt.legend()"
      ],
      "execution_count": null,
      "outputs": [
        {
          "output_type": "execute_result",
          "data": {
            "text/plain": [
              "<matplotlib.legend.Legend at 0x7f3b4a1e2e10>"
            ]
          },
          "metadata": {
            "tags": []
          },
          "execution_count": 5
        },
        {
          "output_type": "display_data",
          "data": {
            "image/png": "[encoded data removed]",
            "text/plain": [
              "<Figure size 432x288 with 1 Axes>"
            ]
          },
          "metadata": {
            "tags": [],
            "needs_background": "light"
          }
        }
      ]
    },
    {
      "cell_type": "code",
      "metadata": {
        "id": "IvrCBdiwO_cU",
        "colab": {
          "base_uri": "https://localhost:8080/",
          "height": 221
        },
        "outputId": "2448dfbd-1ec3-4d37-f95d-611e1abd71bd"
      },
      "source": [
        "abc = ['LABELS:',kmeans.labels_ ,'Cluster Centers:', kmeans.cluster_centers_ ,'INERTIA', kmeans.inertia_ ]\n",
        "abc"
      ],
      "execution_count": null,
      "outputs": [
        {
          "output_type": "execute_result",
          "data": {
            "text/plain": [
              "['LABELS:',\n",
              " array([0, 0, 0, 0, 0, 0, 0, 0, 0, 0, 0, 0, 0, 0, 0, 0, 0, 0, 0, 0, 0, 0,\n",
              "        0, 0, 0, 0, 0, 0, 0, 0, 0, 0, 0, 0, 0, 0, 0, 0, 0, 0, 0, 0, 0, 0,\n",
              "        0, 0, 0, 0, 0, 0, 0, 0, 0, 0, 0, 0, 0, 0, 0, 0, 0, 0, 0, 0, 0, 0,\n",
              "        0, 0, 0, 0, 0, 0, 0, 0, 0, 0, 0, 0, 0, 0, 0, 0, 0, 0, 0, 0, 0, 0,\n",
              "        0, 0, 0, 0, 0, 0, 0, 0, 0, 0, 0, 0, 0, 0, 0, 0, 0, 0, 0, 0, 0, 0,\n",
              "        0, 0, 0, 0, 0, 0, 0, 0, 0, 0, 0, 0, 0, 0, 0, 0, 0, 0, 0, 0, 0, 0,\n",
              "        0, 0, 0, 0, 0, 0, 0, 0, 0, 0, 0, 0, 0, 0, 0, 0, 0, 0], dtype=int32),\n",
              " 'Cluster Centers:',\n",
              " array([[5.84333333, 3.054     , 3.75866667, 1.19866667]]),\n",
              " 'INERTIA',\n",
              " 680.8244]"
            ]
          },
          "metadata": {
            "tags": []
          },
          "execution_count": 6
        }
      ]
    },
    {
      "cell_type": "markdown",
      "metadata": {
        "id": "45CQzr-XLm5q"
      },
      "source": [
        "# Tried n_clusters = 3 and n_init = 10"
      ]
    },
    {
      "cell_type": "code",
      "metadata": {
        "id": "A9AD6MPdDk5F",
        "colab": {
          "base_uri": "https://localhost:8080/",
          "height": 285
        },
        "outputId": "b4f810dd-a1d2-4f88-9b43-087b68cb59d6"
      },
      "source": [
        "kmeans = KMeans(n_clusters=3,  n_init=10, random_state=0).fit(x)\n",
        "y_kmeans = kmeans.fit_predict(x)\n",
        "plt.scatter(x[y_kmeans == 0, 0], x[y_kmeans == 0, 1], s = 100, c = 'red', label = 'Iris-setosa')\n",
        "plt.scatter(x[y_kmeans == 1, 0], x[y_kmeans == 1, 1], s = 100, c = 'blue', label = 'Iris-versicolour')\n",
        "plt.scatter(x[y_kmeans == 2, 0], x[y_kmeans == 2, 1], s = 100, c = 'green', label = 'Iris-virginica')\n",
        "\n",
        "#Plotting the centroids of the clusters\n",
        "plt.scatter(kmeans.cluster_centers_[:, 0], kmeans.cluster_centers_[:,1], s = 100, c = 'black', label = 'Centroids')\n",
        "\n",
        "plt.legend()"
      ],
      "execution_count": null,
      "outputs": [
        {
          "output_type": "execute_result",
          "data": {
            "text/plain": [
              "<matplotlib.legend.Legend at 0x7f3b47727470>"
            ]
          },
          "metadata": {
            "tags": []
          },
          "execution_count": 17
        },
        {
          "output_type": "display_data",
          "data": {
            "image/png": "[encoded data removed]",
            "text/plain": [
              "<Figure size 432x288 with 1 Axes>"
            ]
          },
          "metadata": {
            "tags": [],
            "needs_background": "light"
          }
        }
      ]
    },
    {
      "cell_type": "code",
      "metadata": {
        "id": "kSApQ6w8FbGy",
        "colab": {
          "base_uri": "https://localhost:8080/",
          "height": 255
        },
        "outputId": "906cbfa9-a715-4b4a-c0e1-649107604861"
      },
      "source": [
        "abc = ['LABELS:',kmeans.labels_ ,'Cluster Centers:', kmeans.cluster_centers_ ,'INERTIA', kmeans.inertia_ ]\n",
        "abc"
      ],
      "execution_count": null,
      "outputs": [
        {
          "output_type": "execute_result",
          "data": {
            "text/plain": [
              "['LABELS:',\n",
              " array([1, 1, 1, 1, 1, 1, 1, 1, 1, 1, 1, 1, 1, 1, 1, 1, 1, 1, 1, 1, 1, 1,\n",
              "        1, 1, 1, 1, 1, 1, 1, 1, 1, 1, 1, 1, 1, 1, 1, 1, 1, 1, 1, 1, 1, 1,\n",
              "        1, 1, 1, 1, 1, 1, 2, 2, 0, 2, 2, 2, 2, 2, 2, 2, 2, 2, 2, 2, 2, 2,\n",
              "        2, 2, 2, 2, 2, 2, 2, 2, 2, 2, 2, 0, 2, 2, 2, 2, 2, 2, 2, 2, 2, 2,\n",
              "        2, 2, 2, 2, 2, 2, 2, 2, 2, 2, 2, 2, 0, 2, 0, 0, 0, 0, 2, 0, 0, 0,\n",
              "        0, 0, 0, 2, 2, 0, 0, 0, 0, 2, 0, 2, 0, 2, 0, 0, 2, 2, 0, 0, 0, 0,\n",
              "        0, 2, 0, 0, 0, 0, 2, 0, 0, 0, 2, 0, 0, 0, 2, 0, 0, 2], dtype=int32),\n",
              " 'Cluster Centers:',\n",
              " array([[6.85      , 3.07368421, 5.74210526, 2.07105263],\n",
              "        [5.006     , 3.418     , 1.464     , 0.244     ],\n",
              "        [5.9016129 , 2.7483871 , 4.39354839, 1.43387097]]),\n",
              " 'INERTIA',\n",
              " 78.94084142614602]"
            ]
          },
          "metadata": {
            "tags": []
          },
          "execution_count": 18
        }
      ]
    },
    {
      "cell_type": "markdown",
      "metadata": {
        "id": "QrUC_Et2Lo7O"
      },
      "source": [
        "# Tried n_clusters = 10 and n_init = 10"
      ]
    },
    {
      "cell_type": "code",
      "metadata": {
        "id": "rlieCQMaDweU",
        "colab": {
          "base_uri": "https://localhost:8080/",
          "height": 282
        },
        "outputId": "a8067ccd-4f97-4b39-e950-12bd0f86881a"
      },
      "source": [
        "kmeans = KMeans(n_clusters=10,  n_init=10, random_state=0).fit(x)\n",
        "y_kmeans = kmeans.fit_predict(x)\n",
        "plt.scatter(x[y_kmeans == 0, 0], x[y_kmeans == 0, 1], s = 100, c = 'red', label = 'Iris-setosa')\n",
        "plt.scatter(x[y_kmeans == 1, 0], x[y_kmeans == 1, 1], s = 100, c = 'blue', label = 'Iris-versicolour')\n",
        "plt.scatter(x[y_kmeans == 2, 0], x[y_kmeans == 2, 1], s = 100, c = 'green', label = 'Iris-virginica')\n",
        "\n",
        "#Plotting the centroids of the clusters\n",
        "plt.scatter(kmeans.cluster_centers_[:, 0], kmeans.cluster_centers_[:,1], s = 100, c = 'black', label = 'Centroids')\n",
        "\n",
        "plt.legend()"
      ],
      "execution_count": null,
      "outputs": [
        {
          "output_type": "execute_result",
          "data": {
            "text/plain": [
              "<matplotlib.legend.Legend at 0x7f3b4a085438>"
            ]
          },
          "metadata": {
            "tags": []
          },
          "execution_count": 9
        },
        {
          "output_type": "display_data",
          "data": {
            "image/png": "[encoded data removed]",
            "text/plain": [
              "<Figure size 432x288 with 1 Axes>"
            ]
          },
          "metadata": {
            "tags": [],
            "needs_background": "light"
          }
        }
      ]
    },
    {
      "cell_type": "code",
      "metadata": {
        "id": "vysm18R6FgfE",
        "colab": {
          "base_uri": "https://localhost:8080/",
          "height": 374
        },
        "outputId": "11df8ef3-4746-4ace-ee9e-940aa3989a99"
      },
      "source": [
        "abc = ['LABELS:',kmeans.labels_ ,'Cluster Centers:', kmeans.cluster_centers_ ,'INERTIA', kmeans.inertia_ ]\n",
        "abc"
      ],
      "execution_count": null,
      "outputs": [
        {
          "output_type": "execute_result",
          "data": {
            "text/plain": [
              "['LABELS:',\n",
              " array([1, 8, 8, 8, 1, 7, 8, 1, 8, 8, 7, 1, 8, 8, 7, 7, 7, 1, 7, 1, 1, 1,\n",
              "        8, 1, 1, 8, 1, 1, 1, 8, 8, 1, 7, 7, 8, 8, 1, 8, 8, 1, 1, 8, 8, 1,\n",
              "        1, 8, 1, 8, 1, 1, 6, 6, 6, 2, 6, 4, 6, 9, 6, 2, 9, 4, 2, 6, 2, 6,\n",
              "        4, 2, 6, 2, 3, 2, 3, 6, 6, 6, 6, 6, 6, 2, 2, 2, 2, 3, 4, 6, 6, 6,\n",
              "        4, 2, 4, 6, 2, 9, 4, 4, 4, 6, 9, 4, 5, 3, 0, 5, 5, 0, 4, 0, 5, 0,\n",
              "        5, 3, 5, 3, 3, 5, 5, 0, 0, 3, 5, 3, 0, 3, 5, 0, 3, 3, 5, 0, 0, 0,\n",
              "        5, 3, 3, 0, 5, 5, 3, 5, 5, 5, 3, 5, 5, 5, 3, 5, 5, 3], dtype=int32),\n",
              " 'Cluster Centers:',\n",
              " array([[7.475     , 3.125     , 6.3       , 2.05      ],\n",
              "        [5.10909091, 3.50909091, 1.53181818, 0.28181818],\n",
              "        [5.66153846, 2.56153846, 3.87692308, 1.16923077],\n",
              "        [6.02777778, 2.73333333, 5.02777778, 1.79444444],\n",
              "        [5.57272727, 2.84545455, 4.30909091, 1.37272727],\n",
              "        [6.56818182, 3.08636364, 5.53636364, 2.16363636],\n",
              "        [6.43      , 2.94      , 4.59      , 1.435     ],\n",
              "        [5.5125    , 4.        , 1.475     , 0.275     ],\n",
              "        [4.69      , 3.085     , 1.385     , 0.19      ],\n",
              "        [5.        , 2.3       , 3.275     , 1.025     ]]),\n",
              " 'INERTIA',\n",
              " 25.95549708624709]"
            ]
          },
          "metadata": {
            "tags": []
          },
          "execution_count": 10
        }
      ]
    },
    {
      "cell_type": "markdown",
      "metadata": {
        "id": "ZVcAL6G8LrqF"
      },
      "source": [
        "# Tried n_clusters = 50 and n_init = 10"
      ]
    },
    {
      "cell_type": "code",
      "metadata": {
        "id": "Jk4yg9-wD3BI",
        "colab": {
          "base_uri": "https://localhost:8080/",
          "height": 282
        },
        "outputId": "96ee0f3a-5bc8-4070-e129-20219be7eb33"
      },
      "source": [
        "kmeans = KMeans(n_clusters=50,  n_init=10, random_state=0).fit(x)\n",
        "y_kmeans = kmeans.fit_predict(x)\n",
        "plt.scatter(x[y_kmeans == 0, 0], x[y_kmeans == 0, 1], s = 100, c = 'red', label = 'Iris-setosa')\n",
        "plt.scatter(x[y_kmeans == 1, 0], x[y_kmeans == 1, 1], s = 100, c = 'blue', label = 'Iris-versicolour')\n",
        "plt.scatter(x[y_kmeans == 2, 0], x[y_kmeans == 2, 1], s = 100, c = 'green', label = 'Iris-virginica')\n",
        "\n",
        "#Plotting the centroids of the clusters\n",
        "plt.scatter(kmeans.cluster_centers_[:, 0], kmeans.cluster_centers_[:,1], s = 100, c = 'black', label = 'Centroids')\n",
        "\n",
        "plt.legend()"
      ],
      "execution_count": null,
      "outputs": [
        {
          "output_type": "execute_result",
          "data": {
            "text/plain": [
              "<matplotlib.legend.Legend at 0x7f3b4a002b70>"
            ]
          },
          "metadata": {
            "tags": []
          },
          "execution_count": 11
        },
        {
          "output_type": "display_data",
          "data": {
            "image/png": "[encoded data removed]",
            "text/plain": [
              "<Figure size 432x288 with 1 Axes>"
            ]
          },
          "metadata": {
            "tags": [],
            "needs_background": "light"
          }
        }
      ]
    },
    {
      "cell_type": "code",
      "metadata": {
        "id": "kSjkMIadFibX",
        "colab": {
          "base_uri": "https://localhost:8080/",
          "height": 1000
        },
        "outputId": "ad4b986a-40bd-4e03-b15c-6f53c58e67af"
      },
      "source": [
        "abc = ['LABELS:',kmeans.labels_ ,'Cluster Centers:', kmeans.cluster_centers_ ,'INERTIA', kmeans.inertia_ ]\n",
        "abc"
      ],
      "execution_count": null,
      "outputs": [
        {
          "output_type": "execute_result",
          "data": {
            "text/plain": [
              "['LABELS:',\n",
              " array([39, 17, 38, 38, 39, 23, 38, 39, 14, 17, 23, 33, 17, 14, 13, 36, 23,\n",
              "        39, 23, 31,  1, 31, 32, 33, 33, 17, 33,  1,  1, 38, 17,  1, 31, 36,\n",
              "        17,  9,  1, 17, 14, 39, 39, 28, 14, 33, 31, 17, 31, 38, 23,  9, 11,\n",
              "        43, 11, 24, 47,  2, 43, 12, 47, 24, 48,  2, 46, 44,  4, 47, 35,  7,\n",
              "        26, 42, 15, 29,  6, 44, 29, 47, 47, 11,  2,  4, 42, 42,  7,  6, 35,\n",
              "        43, 11, 26,  7, 24,  7, 44,  7, 12,  7,  7,  7, 29, 12,  7, 45, 18,\n",
              "         5, 21,  0, 30, 20, 22, 41, 25, 16, 34, 27, 18, 18, 10, 21,  3,  8,\n",
              "        49, 19, 18, 30, 34, 19, 37, 15, 15,  0, 37, 22,  3,  0,  6, 40, 22,\n",
              "        10, 21, 15, 27, 19, 27, 18, 19, 19, 27, 34, 16, 10, 15],\n",
              "       dtype=int32),\n",
              " 'Cluster Centers:',\n",
              " array([[6.43333333, 2.86666667, 5.66666667, 2.16666667],\n",
              "        [5.34      , 3.44      , 1.48      , 0.24      ],\n",
              "        [5.86666667, 2.9       , 4.4       , 1.43333333],\n",
              "        [7.8       , 3.8       , 6.55      , 2.1       ],\n",
              "        [5.65      , 2.75      , 3.55      , 1.15      ],\n",
              "        [7.1       , 3.        , 5.9       , 2.1       ],\n",
              "        [6.2       , 2.66666667, 5.03333333, 1.53333333],\n",
              "        [5.68888889, 2.77777778, 4.13333333, 1.22222222],\n",
              "        [7.7       , 2.6       , 6.9       , 2.3       ],\n",
              "        [5.        , 3.25      , 1.3       , 0.2       ],\n",
              "        [6.3       , 3.33333333, 5.43333333, 2.33333333],\n",
              "        [6.825     , 3.1       , 4.825     , 1.525     ],\n",
              "        [5.        , 2.4       , 3.2       , 1.03333333],\n",
              "        [5.8       , 4.        , 1.2       , 0.2       ],\n",
              "        [4.375     , 3.025     , 1.275     , 0.175     ],\n",
              "        [6.02      , 3.        , 4.88      , 1.8       ],\n",
              "        [6.5       , 3.1       , 5.15      , 2.        ],\n",
              "        [4.875     , 3.05      , 1.4875    , 0.1625    ],\n",
              "        [5.74      , 2.7       , 5.04      , 2.04      ],\n",
              "        [6.76      , 3.22      , 5.72      , 2.32      ],\n",
              "        [4.9       , 2.5       , 4.5       , 1.7       ],\n",
              "        [6.4       , 3.        , 5.53333333, 1.8       ],\n",
              "        [7.46666667, 2.9       , 6.16666667, 2.        ],\n",
              "        [5.44      , 3.8       , 1.54      , 0.3       ],\n",
              "        [5.4       , 2.5       , 3.96666667, 1.33333333],\n",
              "        [7.2       , 3.6       , 6.1       , 2.5       ],\n",
              "        [6.25      , 2.25      , 4.45      , 1.4       ],\n",
              "        [6.825     , 3.05      , 5.3       , 2.2       ],\n",
              "        [4.5       , 2.3       , 1.3       , 0.3       ],\n",
              "        [6.23333333, 2.86666667, 4.2       , 1.3       ],\n",
              "        [7.65      , 2.9       , 6.65      , 2.05      ],\n",
              "        [5.12      , 3.84      , 1.6       , 0.28      ],\n",
              "        [4.6       , 3.6       , 1.        , 0.2       ],\n",
              "        [4.94      , 3.4       , 1.68      , 0.38      ],\n",
              "        [6.33333333, 2.63333333, 5.06666667, 1.86666667],\n",
              "        [5.5       , 3.        , 4.5       , 1.5       ],\n",
              "        [5.6       , 4.3       , 1.45      , 0.3       ],\n",
              "        [7.2       , 3.1       , 5.9       , 1.7       ],\n",
              "        [4.64      , 3.22      , 1.44      , 0.22      ],\n",
              "        [5.05      , 3.48333333, 1.41666667, 0.23333333],\n",
              "        [6.1       , 2.6       , 5.6       , 1.4       ],\n",
              "        [6.7       , 2.5       , 5.8       , 1.8       ],\n",
              "        [5.53333333, 2.43333333, 3.8       , 1.06666667],\n",
              "        [6.23333333, 3.3       , 4.56666667, 1.56666667],\n",
              "        [6.1       , 2.9       , 4.66666667, 1.33333333],\n",
              "        [6.3       , 3.3       , 6.        , 2.5       ],\n",
              "        [6.        , 2.2       , 4.        , 1.        ],\n",
              "        [6.64      , 2.92      , 4.56      , 1.4       ],\n",
              "        [5.        , 2.        , 3.5       , 1.        ],\n",
              "        [6.        , 2.2       , 5.        , 1.5       ]]),\n",
              " 'INERTIA',\n",
              " 5.344833333333334]"
            ]
          },
          "metadata": {
            "tags": []
          },
          "execution_count": 12
        }
      ]
    },
    {
      "cell_type": "markdown",
      "metadata": {
        "id": "P6JYjNCcLynD"
      },
      "source": [
        "# Tried n_clusters = 149 and n_init = 10"
      ]
    },
    {
      "cell_type": "code",
      "metadata": {
        "id": "AVZenSZpD5_w",
        "colab": {
          "base_uri": "https://localhost:8080/",
          "height": 373
        },
        "outputId": "89f2d4db-3af0-4122-ef51-9fb4639bbc25"
      },
      "source": [
        "kmeans = KMeans(n_clusters=149,  n_init=10, random_state=0).fit(x)\n",
        "y_kmeans = kmeans.fit_predict(x)\n",
        "plt.scatter(x[y_kmeans == 0, 0], x[y_kmeans == 0, 1], s = 100, c = 'red', label = 'Iris-setosa')\n",
        "plt.scatter(x[y_kmeans == 1, 0], x[y_kmeans == 1, 1], s = 100, c = 'blue', label = 'Iris-versicolour')\n",
        "plt.scatter(x[y_kmeans == 2, 0], x[y_kmeans == 2, 1], s = 100, c = 'green', label = 'Iris-virginica')\n",
        "\n",
        "#Plotting the centroids of the clusters\n",
        "plt.scatter(kmeans.cluster_centers_[:, 0], kmeans.cluster_centers_[:,1], s = 100, c = 'black', label = 'Centroids')\n",
        "\n",
        "plt.legend()"
      ],
      "execution_count": null,
      "outputs": [
        {
          "output_type": "stream",
          "text": [
            "/usr/local/lib/python3.6/dist-packages/ipykernel_launcher.py:1: ConvergenceWarning: Number of distinct clusters (147) found smaller than n_clusters (149). Possibly due to duplicate points in X.\n",
            "  \"\"\"Entry point for launching an IPython kernel.\n",
            "/usr/local/lib/python3.6/dist-packages/sklearn/cluster/_kmeans.py:1008: ConvergenceWarning: Number of distinct clusters (147) found smaller than n_clusters (149). Possibly due to duplicate points in X.\n",
            "  return self.fit(X, sample_weight=sample_weight).labels_\n"
          ],
          "name": "stderr"
        },
        {
          "output_type": "execute_result",
          "data": {
            "text/plain": [
              "<matplotlib.legend.Legend at 0x7f3b4a04b358>"
            ]
          },
          "metadata": {
            "tags": []
          },
          "execution_count": 13
        },
        {
          "output_type": "display_data",
          "data": {
            "image/png": "[encoded data removed]",
            "text/plain": [
              "<Figure size 432x288 with 1 Axes>"
            ]
          },
          "metadata": {
            "tags": [],
            "needs_background": "light"
          }
        }
      ]
    },
    {
      "cell_type": "code",
      "metadata": {
        "id": "RUkUxTzkFoSD",
        "colab": {
          "base_uri": "https://localhost:8080/",
          "height": 1000
        },
        "outputId": "f0b341f7-703c-466a-baa7-caef37b9e3a0"
      },
      "source": [
        "abc = ['LABELS:',kmeans.labels_ ,'Cluster Centers:', kmeans.cluster_centers_ ,'INERTIA', kmeans.inertia_ ]\n",
        "abc"
      ],
      "execution_count": null,
      "outputs": [
        {
          "output_type": "execute_result",
          "data": {
            "text/plain": [
              "['LABELS:',\n",
              " array([144, 140, 127, 131, 121,  50,  99,  44, 137,  49,  27, 110, 118,\n",
              "        109,  54,  83,  75, 124,  85, 141,  71,  26,  30, 114,  23, 115,\n",
              "         57, 125,   3, 128, 102,  82,   0,  17,  49,  88,  77,  49,  32,\n",
              "        145,  78,  37, 119, 108,  72,   6, 101,  18, 146, 142, 100,  28,\n",
              "         22,  65,  51,  80,  95,   5, 106,  41,  61,  34,  60, 139,  63,\n",
              "          9, 117, 104,  20, 126,  84,  58,  69,   1,  47, 129,  73,  79,\n",
              "        112,  15,  35, 138, 135,   8,  40,  56,  81,  94, 122, 111,  90,\n",
              "         42,  24, 130,   7, 134,  52, 116,  70, 133,  33,  38,  76, 105,\n",
              "         74,  93,  19,  91,  43,  36, 113,  68,  39,  97,  46,   4,  13,\n",
              "         66,  64,  53, 107,  14,  12,  29,  87,  31, 123,  16,  25,  67,\n",
              "          2,  11, 143,  86,  48,  45,  62, 132, 136, 120,  96,  21,  38,\n",
              "         10,  59,  98, 103,  55,  89,  92], dtype=int32),\n",
              " 'Cluster Centers:',\n",
              " array([[5.2, 4.1, 1.5, 0.1],\n",
              "        [6.1, 2.8, 4.7, 1.2],\n",
              "        [7.4, 2.8, 6.1, 1.9],\n",
              "        [5.2, 3.4, 1.4, 0.2],\n",
              "        [6.4, 3.2, 5.3, 2.3],\n",
              "        [4.9, 2.4, 3.3, 1. ],\n",
              "        [4.8, 3. , 1.4, 0.3],\n",
              "        [5.6, 2.7, 4.2, 1.3],\n",
              "        [6. , 2.7, 5.1, 1.6],\n",
              "        [6.7, 3.1, 4.4, 1.4],\n",
              "        [6.8, 3.2, 5.9, 2.3],\n",
              "        [7.9, 3.8, 6.4, 2. ],\n",
              "        [7.7, 2.8, 6.7, 2. ],\n",
              "        [6.5, 3. , 5.5, 1.8],\n",
              "        [5.6, 2.8, 4.9, 2. ],\n",
              "        [5.7, 2.6, 3.5, 1. ],\n",
              "        [6.1, 3. , 4.9, 1.8],\n",
              "        [5.5, 4.2, 1.4, 0.2],\n",
              "        [4.6, 3.2, 1.4, 0.2],\n",
              "        [4.9, 2.5, 4.5, 1.7],\n",
              "        [6.2, 2.2, 4.5, 1.5],\n",
              "        [6.9, 3.1, 5.1, 2.3],\n",
              "        [6.9, 3.1, 4.9, 1.5],\n",
              "        [4.8, 3.4, 1.9, 0.2],\n",
              "        [5.8, 2.6, 4. , 1.2],\n",
              "        [6.4, 2.8, 5.6, 2.1],\n",
              "        [5.1, 3.7, 1.5, 0.4],\n",
              "        [5.4, 3.7, 1.5, 0.2],\n",
              "        [6.4, 3.2, 4.5, 1.5],\n",
              "        [6.3, 2.7, 4.9, 1.8],\n",
              "        [4.6, 3.6, 1. , 0.2],\n",
              "        [7.2, 3.2, 6. , 1.8],\n",
              "        [4.4, 3. , 1.3, 0.2],\n",
              "        [6.3, 3.3, 6. , 2.5],\n",
              "        [5.9, 3. , 4.2, 1.5],\n",
              "        [5.5, 2.4, 3.8, 1.1],\n",
              "        [7.2, 3.6, 6.1, 2.5],\n",
              "        [4.5, 2.3, 1.3, 0.3],\n",
              "        [5.8, 2.7, 5.1, 1.9],\n",
              "        [6.8, 3. , 5.5, 2.1],\n",
              "        [5.4, 3. , 4.5, 1.5],\n",
              "        [5.2, 2.7, 3.9, 1.4],\n",
              "        [6.1, 3. , 4.6, 1.4],\n",
              "        [6.7, 2.5, 5.8, 1.8],\n",
              "        [5. , 3.4, 1.5, 0.2],\n",
              "        [7.7, 3. , 6.1, 2.3],\n",
              "        [5.8, 2.8, 5.1, 2.4],\n",
              "        [6.4, 2.9, 4.3, 1.3],\n",
              "        [6.1, 2.6, 5.6, 1.4],\n",
              "        [4.9, 3.1, 1.5, 0.1],\n",
              "        [5.4, 3.9, 1.7, 0.4],\n",
              "        [6.5, 2.8, 4.6, 1.5],\n",
              "        [5.7, 2.9, 4.2, 1.3],\n",
              "        [6. , 2.2, 5. , 1.5],\n",
              "        [5.8, 4. , 1.2, 0.2],\n",
              "        [6.5, 3. , 5.2, 2. ],\n",
              "        [6. , 3.4, 4.5, 1.6],\n",
              "        [5. , 3.4, 1.6, 0.4],\n",
              "        [6.1, 2.8, 4. , 1.3],\n",
              "        [6.7, 3.3, 5.7, 2.5],\n",
              "        [6. , 2.2, 4. , 1. ],\n",
              "        [5. , 2. , 3.5, 1. ],\n",
              "        [6.3, 3.4, 5.6, 2.4],\n",
              "        [5.6, 2.9, 3.6, 1.3],\n",
              "        [7.7, 2.6, 6.9, 2.3],\n",
              "        [5.5, 2.3, 4. , 1.3],\n",
              "        [7.7, 3.8, 6.7, 2.2],\n",
              "        [7.2, 3. , 5.8, 1.6],\n",
              "        [6.4, 2.7, 5.3, 1.9],\n",
              "        [6.3, 2.5, 4.9, 1.5],\n",
              "        [5.1, 2.5, 3. , 1.1],\n",
              "        [5.4, 3.4, 1.7, 0.2],\n",
              "        [5.1, 3.8, 1.9, 0.4],\n",
              "        [6.8, 2.8, 4.8, 1.4],\n",
              "        [6.5, 3. , 5.8, 2.2],\n",
              "        [5.4, 3.9, 1.3, 0.4],\n",
              "        [7.1, 3. , 5.9, 2.1],\n",
              "        [5.5, 3.5, 1.3, 0.2],\n",
              "        [5. , 3.5, 1.3, 0.3],\n",
              "        [6.7, 3. , 5. , 1.7],\n",
              "        [5.7, 2.8, 4.5, 1.3],\n",
              "        [6.7, 3.1, 4.7, 1.5],\n",
              "        [5.4, 3.4, 1.5, 0.4],\n",
              "        [5.7, 4.4, 1.5, 0.4],\n",
              "        [5.9, 3.2, 4.8, 1.8],\n",
              "        [5.7, 3.8, 1.7, 0.3],\n",
              "        [6.3, 2.8, 5.1, 1.5],\n",
              "        [6.7, 3.3, 5.7, 2.1],\n",
              "        [5. , 3.2, 1.2, 0.2],\n",
              "        [6.2, 3.4, 5.4, 2.3],\n",
              "        [5.5, 2.6, 4.4, 1.2],\n",
              "        [7.3, 2.9, 6.3, 1.8],\n",
              "        [5.9, 3. , 5.1, 1.8],\n",
              "        [7.6, 3. , 6.6, 2.1],\n",
              "        [6.3, 2.3, 4.4, 1.3],\n",
              "        [6.3, 3.3, 4.7, 1.6],\n",
              "        [6.7, 3.1, 5.6, 2.4],\n",
              "        [5.7, 2.5, 5. , 2. ],\n",
              "        [6.7, 3. , 5.2, 2.3],\n",
              "        [4.6, 3.4, 1.4, 0.3],\n",
              "        [7. , 3.2, 4.7, 1.4],\n",
              "        [5.1, 3.8, 1.6, 0.2],\n",
              "        [4.8, 3.1, 1.6, 0.2],\n",
              "        [6.3, 2.5, 5. , 1.9],\n",
              "        [5.8, 2.7, 4.1, 1. ],\n",
              "        [6.3, 2.9, 5.6, 1.8],\n",
              "        [6.6, 2.9, 4.6, 1.3],\n",
              "        [6.9, 3.2, 5.7, 2.3],\n",
              "        [5. , 3.5, 1.6, 0.6],\n",
              "        [4.3, 3. , 1.1, 0.1],\n",
              "        [4.8, 3.4, 1.6, 0.2],\n",
              "        [5.5, 2.5, 4. , 1.3],\n",
              "        [6. , 2.9, 4.5, 1.5],\n",
              "        [6.5, 3.2, 5.1, 2. ],\n",
              "        [5.1, 3.3, 1.7, 0.5],\n",
              "        [5. , 3. , 1.6, 0.2],\n",
              "        [6.2, 2.9, 4.3, 1.3],\n",
              "        [5.6, 3. , 4.5, 1.5],\n",
              "        [4.8, 3. , 1.4, 0.1],\n",
              "        [4.4, 3.2, 1.3, 0.2],\n",
              "        [6.9, 3.1, 5.4, 2.1],\n",
              "        [5. , 3.6, 1.4, 0.2],\n",
              "        [5.6, 3. , 4.1, 1.3],\n",
              "        [6.2, 2.8, 4.8, 1.8],\n",
              "        [5.1, 3.5, 1.4, 0.3],\n",
              "        [5.2, 3.5, 1.5, 0.2],\n",
              "        [5.6, 2.5, 3.9, 1.1],\n",
              "        [4.7, 3.2, 1.3, 0.2],\n",
              "        [4.7, 3.2, 1.6, 0.2],\n",
              "        [6.6, 3. , 4.4, 1.4],\n",
              "        [5. , 2.3, 3.3, 1. ],\n",
              "        [4.6, 3.1, 1.5, 0.2],\n",
              "        [6.4, 3.1, 5.5, 1.8],\n",
              "        [5.7, 2.8, 4.1, 1.3],\n",
              "        [5.7, 3. , 4.2, 1.2],\n",
              "        [5.8, 2.7, 3.9, 1.2],\n",
              "        [6. , 3. , 4.8, 1.8],\n",
              "        [4.4, 2.9, 1.4, 0.2],\n",
              "        [5.5, 2.4, 3.7, 1. ],\n",
              "        [6.1, 2.9, 4.7, 1.4],\n",
              "        [4.9, 3. , 1.4, 0.2],\n",
              "        [5.1, 3.8, 1.5, 0.3],\n",
              "        [5. , 3.3, 1.4, 0.2],\n",
              "        [6.4, 2.8, 5.6, 2.2],\n",
              "        [5.1, 3.5, 1.4, 0.2],\n",
              "        [5.1, 3.4, 1.5, 0.2],\n",
              "        [5.3, 3.7, 1.5, 0.2],\n",
              "        [5.9, 3. , 5.1, 1.8],\n",
              "        [5.7, 2.8, 4.5, 1.3]]),\n",
              " 'INERTIA',\n",
              " 0.0]"
            ]
          },
          "metadata": {
            "tags": []
          },
          "execution_count": 14
        }
      ]
    },
    {
      "cell_type": "markdown",
      "metadata": {
        "id": "WEuGw90XL85S"
      },
      "source": [
        "# Tried n_clusters = 1 and n_init = 1 (Since it seems like n_cluster=3 is the best option)"
      ]
    },
    {
      "cell_type": "code",
      "metadata": {
        "id": "uXpX5PnREQrU",
        "colab": {
          "base_uri": "https://localhost:8080/",
          "height": 285
        },
        "outputId": "d18f4bfb-ad84-45fc-f4f0-b98edb7d689a"
      },
      "source": [
        "kmeans = KMeans(n_clusters=3,  n_init=1, random_state=0).fit(x)\n",
        "y_kmeans = kmeans.fit_predict(x)\n",
        "plt.scatter(x[y_kmeans == 0, 0], x[y_kmeans == 0, 1], s = 100, c = 'red', label = 'Iris-setosa')\n",
        "plt.scatter(x[y_kmeans == 1, 0], x[y_kmeans == 1, 1], s = 100, c = 'blue', label = 'Iris-versicolour')\n",
        "plt.scatter(x[y_kmeans == 2, 0], x[y_kmeans == 2, 1], s = 100, c = 'green', label = 'Iris-virginica')\n",
        "\n",
        "#Plotting the centroids of the clusters\n",
        "plt.scatter(kmeans.cluster_centers_[:, 0], kmeans.cluster_centers_[:,1], s = 100, c = 'black', label = 'Centroids')\n",
        "\n",
        "plt.legend()"
      ],
      "execution_count": null,
      "outputs": [
        {
          "output_type": "execute_result",
          "data": {
            "text/plain": [
              "<matplotlib.legend.Legend at 0x7f3b475e0898>"
            ]
          },
          "metadata": {
            "tags": []
          },
          "execution_count": 21
        },
        {
          "output_type": "display_data",
          "data": {
            "image/png": "[encoded data removed]",
            "text/plain": [
              "<Figure size 432x288 with 1 Axes>"
            ]
          },
          "metadata": {
            "tags": [],
            "needs_background": "light"
          }
        }
      ]
    },
    {
      "cell_type": "code",
      "metadata": {
        "id": "ltsqViB0GAdD",
        "colab": {
          "base_uri": "https://localhost:8080/",
          "height": 255
        },
        "outputId": "9afd2bf4-3aa2-4cf3-fc6e-c5dc3b5363c0"
      },
      "source": [
        "abc = ['LABELS:',kmeans.labels_ ,'Cluster Centers:', kmeans.cluster_centers_ ,'INERTIA', kmeans.inertia_ ]\n",
        "abc"
      ],
      "execution_count": null,
      "outputs": [
        {
          "output_type": "execute_result",
          "data": {
            "text/plain": [
              "['LABELS:',\n",
              " array([0, 0, 0, 0, 0, 0, 0, 0, 0, 0, 0, 0, 0, 0, 0, 0, 0, 0, 0, 0, 0, 0,\n",
              "        0, 0, 0, 0, 0, 0, 0, 0, 0, 0, 0, 0, 0, 0, 0, 0, 0, 0, 0, 0, 0, 0,\n",
              "        0, 0, 0, 0, 0, 0, 2, 1, 2, 1, 1, 1, 1, 1, 1, 1, 1, 1, 1, 1, 1, 1,\n",
              "        1, 1, 1, 1, 1, 1, 1, 1, 1, 1, 1, 2, 1, 1, 1, 1, 1, 1, 1, 1, 1, 1,\n",
              "        1, 1, 1, 1, 1, 1, 1, 1, 1, 1, 1, 1, 2, 1, 2, 2, 2, 2, 1, 2, 2, 2,\n",
              "        2, 2, 2, 1, 1, 2, 2, 2, 2, 1, 2, 1, 2, 1, 2, 2, 1, 1, 2, 2, 2, 2,\n",
              "        2, 1, 2, 2, 2, 2, 1, 2, 2, 2, 1, 2, 2, 2, 1, 2, 2, 1], dtype=int32),\n",
              " 'Cluster Centers:',\n",
              " array([[5.006     , 3.418     , 1.464     , 0.244     ],\n",
              "        [5.88360656, 2.74098361, 4.38852459, 1.43442623],\n",
              "        [6.85384615, 3.07692308, 5.71538462, 2.05384615]]),\n",
              " 'INERTIA',\n",
              " 78.94506582597731]"
            ]
          },
          "metadata": {
            "tags": []
          },
          "execution_count": 22
        }
      ]
    },
    {
      "cell_type": "markdown",
      "metadata": {
        "id": "KlpPd0WvMCU9"
      },
      "source": [
        "#CONCLUSION\n",
        "Since the K-means algorithm aims to choose centroids that minimise the inertia, i've tried different cluster numbers and examined the inertia results, labels and cluster centers.\n",
        "Here is my observation:\n",
        "##1 Cluster\n",
        "Since my aim is to split data into different clusters and predict the groups in the data, using 1 cluster was meaningless. Inertia was too high and labels don't help us to understand the data\n",
        "##3 Clusters\n",
        "I've checked 3 Cluster version before with the elbow method and saw its the best option. And obviously we know that its the best because this dataset have 3 classes. But kMeans is an unsupervised algorithm, so when we evaluate the inertia results, its much more better than 1 cluster version. Also when we examine the labels they seems fit to this dataset since originally there are 3 classes. But the error rate is not so low. Also when we used n_init=1 centroids where different and worse than the version with n_init=10\n",
        "##10 Clusters\n",
        "I see that its better for the inertia results when we increase the number of clusters. But since there are so many resulting label types, using the data become harder each time\n",
        "##50 Clusters\n",
        "Inertia is much more lower and predictions are better but there are meaninglessly many classes so this dataset is useless in the sense of machine learning\n",
        "##149 Clusters\n",
        "Every data have different label and there is no prediction anymore. Each data sample has its own cluster so there is no inertia here. Also since all data have different labels, this version of the algorithm is completely useless because its not changing anything in understandibility of the dataset"
      ]
    }
  ]
}